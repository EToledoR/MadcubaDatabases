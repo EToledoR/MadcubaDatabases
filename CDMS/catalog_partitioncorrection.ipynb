{
 "cells": [
  {
   "cell_type": "code",
   "execution_count": null,
   "metadata": {},
   "outputs": [],
   "source": [
    "import sys\n",
    "import os\n",
    "#import json\n",
    "#import requests\n",
    "import wget  # requires pip install wget\n",
    "#import zipfile\n",
    "import numpy as np\n",
    "import matplotlib.pyplot as plt\n"
   ]
  },
  {
   "cell_type": "code",
   "execution_count": null,
   "metadata": {},
   "outputs": [],
   "source": [
    "fpartition = open('partition_function.html',\"r\")\n",
    "fpartitionlines = fpartition.readlines()\n",
    "fpartition.close()"
   ]
  },
  {
   "cell_type": "code",
   "execution_count": null,
   "metadata": {},
   "outputs": [],
   "source": [
    "if not os.path.isdir('catalog_partitioncorrection'):\n",
    "    os.mkdir('catalog_partitioncorrection')"
   ]
  },
  {
   "cell_type": "code",
   "execution_count": null,
   "metadata": {},
   "outputs": [],
   "source": [
    "for fpartitionline in fpartitionlines[15:]:\n",
    "    if \"<\" not in fpartitionline:\n",
    "        fpartitioncode = fpartitionline[0:6].replace(\"  \",\"00\").replace(\" \",\"0\")\n",
    "        print(fpartitioncode)\n",
    "        downloadedfilename=wget.download(\n",
    "            'https://cdms.astro.uni-koeln.de/cgi-bin/cdmsinfo?file=e%s.cat' %fpartitioncode, \n",
    "            out='./catalog_partitioncorrection/e%s.cat'%fpartitioncode\n",
    "        )"
   ]
  },
  {
   "cell_type": "code",
   "execution_count": null,
   "metadata": {},
   "outputs": [],
   "source": [
    "for efiles in os.listdir(./catalog_partitioncorrection/):\n",
    "    efile = open('./catalog_partitioncorrection/%s' % efiles)\n",
    "    for lines in efile.readlines:\n",
    "        "
   ]
  },
  {
   "cell_type": "code",
   "execution_count": null,
   "metadata": {},
   "outputs": [],
   "source": [
    "x_new=np.array([300.0,225.0,150.0,75.0,37.5,18.75,9.375])\n",
    "x_new=np.log10(x_new)\n",
    "\n",
    "# LOOP HERE\n",
    "tag = 'e033511.cat'\n",
    "tag = tag.replace(\".cat\",\"\")\n",
    "efile = open('./catalog_partitioncorrection/%s.cat' %tag)\n",
    "\n",
    "x = []\n",
    "y = []\n",
    "for lines in efile.readlines():\n",
    "    if \"Q(\" in lines:\n",
    "        x =np.append(x,lines.split(\"Q(\")[1].split(\")\")[0])\n",
    "        y =np.append(y,lines.split(\"right>\")[1].split(\"<\")[0])\n",
    "\n",
    "print(x)\n",
    "print(y)\n",
    "\n",
    "x = np.log10(x.astype(np.float))\n",
    "y = np.log10(y.astype(np.float))    \n",
    "fit = np.polyfit(x, y ,5)\n",
    "line = np.poly1d(fit)\n",
    "y_new = line(x_new)\n",
    "plt.figure(figsize=[20,14])\n",
    "plt.plot(x, y, \"sg-\", x_new, y_new, \"or\")\n",
    "plt.plot(x, line(x))\n",
    "plt.xlabel(\"log10(T)\")\n",
    "plt.ylabel(\"log10(Q)\")\n",
    "plt.title(\"%s\" %tag)\n",
    "plt.savefig('./catalog_partitioncorrection/%s_part_log.png' %tag)\n",
    "#print(10**y_new)\n",
    "#print((10**y_new-10**y)/10**y*100)\n",
    "plt.gcf().clear()\n",
    "plt.plot(10**x, 10**y, \"sg-\", 10**x_new, 10**y_new, \"or\");\n",
    "plt.plot(10**x, 10**line(x))\n",
    "plt.xlabel(\"T\")\n",
    "plt.ylabel(\"Q\")\n",
    "plt.title(\"%s\" %tag)\n",
    "plt.savefig('./catalog_partitioncorrection/%s_part_lin.png' %tag)\n"
   ]
  },
  {
   "cell_type": "code",
   "execution_count": null,
   "metadata": {},
   "outputs": [],
   "source": [
    "10**x_new"
   ]
  },
  {
   "cell_type": "code",
   "execution_count": null,
   "metadata": {},
   "outputs": [],
   "source": [
    "y_new"
   ]
  },
  {
   "cell_type": "code",
   "execution_count": null,
   "metadata": {},
   "outputs": [],
   "source": [
    "10**4.10599529"
   ]
  },
  {
   "cell_type": "code",
   "execution_count": null,
   "metadata": {},
   "outputs": [],
   "source": [
    "10**4.1069"
   ]
  },
  {
   "cell_type": "code",
   "execution_count": null,
   "metadata": {},
   "outputs": [],
   "source": []
  },
  {
   "cell_type": "code",
   "execution_count": null,
   "metadata": {},
   "outputs": [],
   "source": [
    "12790/12764"
   ]
  },
  {
   "cell_type": "code",
   "execution_count": null,
   "metadata": {},
   "outputs": [],
   "source": [
    "line"
   ]
  },
  {
   "cell_type": "code",
   "execution_count": null,
   "metadata": {},
   "outputs": [],
   "source": [
    "fit"
   ]
  },
  {
   "cell_type": "code",
   "execution_count": null,
   "metadata": {},
   "outputs": [],
   "source": []
  }
 ],
 "metadata": {
  "kernelspec": {
   "display_name": "Python 3 (ipykernel)",
   "language": "python",
   "name": "python3"
  },
  "language_info": {
   "codemirror_mode": {
    "name": "ipython",
    "version": 3
   },
   "file_extension": ".py",
   "mimetype": "text/x-python",
   "name": "python",
   "nbconvert_exporter": "python",
   "pygments_lexer": "ipython3",
   "version": "3.11.4"
  }
 },
 "nbformat": 4,
 "nbformat_minor": 4
}
