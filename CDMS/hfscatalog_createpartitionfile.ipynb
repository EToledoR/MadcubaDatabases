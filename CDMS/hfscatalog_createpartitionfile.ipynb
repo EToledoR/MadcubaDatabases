{
 "cells": [
  {
   "cell_type": "code",
   "execution_count": null,
   "metadata": {},
   "outputs": [],
   "source": [
    "import os\n",
    "import pandas as pd\n",
    "import numpy as np"
   ]
  },
  {
   "cell_type": "code",
   "execution_count": null,
   "metadata": {},
   "outputs": [],
   "source": [
    "hfscatfilesraw = os.listdir('catalog_hfs')\n",
    "hfscatfilesraw.sort()\n",
    "hfscatfiles = [x for x in hfscatfilesraw if \"backup\" not in x]\n",
    "hfscatcodes = []\n",
    "for hfscatfile in hfscatfiles:\n",
    "    hfscatcodes.append(hfscatfile.split(\"_\")[0].replace(\"c00\",\"\").replace(\"c0\",\"\").replace(\"c\",\"\"))\n",
    "len(hfscatcodes)"
   ]
  },
  {
   "cell_type": "code",
   "execution_count": null,
   "metadata": {},
   "outputs": [],
   "source": [
    "hfsdict = dict(zip(hfscatcodes,hfscatfiles))\n",
    "hfsdict"
   ]
  },
  {
   "cell_type": "code",
   "execution_count": null,
   "metadata": {},
   "outputs": [],
   "source": [
    "# CHECK REPEATED\n",
    "seen = set()\n",
    "uniq = []\n",
    "print(\"REPEATED ENTRIES\")\n",
    "for x in hfscatcodes:\n",
    "    if x not in seen:\n",
    "        uniq.append(x)\n",
    "        seen.add(x)\n",
    "    else:\n",
    "        print(x)\n",
    "        matching = [s for s in hfscatfiles if x in s]\n",
    "        print (matching)        "
   ]
  },
  {
   "cell_type": "code",
   "execution_count": null,
   "metadata": {},
   "outputs": [],
   "source": [
    "fpartition = open('partition_function.html',\"r\")\n",
    "fpartitionlines = fpartition.readlines()\n",
    "fpartition.close()"
   ]
  },
  {
   "cell_type": "code",
   "execution_count": null,
   "metadata": {},
   "outputs": [],
   "source": [
    "# Comprobacion de que la suma de las intensidades en el catalogo para el no hfs es igual a la suma de todas las hfs de la misma transicion.\n",
    "def calculateCorrectionFactor(fpartitioncode):\n",
    "    # Tolerancia en frecuencia para asumir que es la misma linea\n",
    "    threshold=0.02\n",
    "    # Leo el .cat de la nohfs y la hfs en un pandas y solo tomo las columnas de frequency y I3000\n",
    "    molec = pd.read_fwf('catalog/%s' % hfsdict[fpartitioncode].replace('_hfs',''),header = None,colspecs=[(0,13),(21,29)])\n",
    "    molechfs = pd.read_fwf('catalog_hfs/%s' % hfsdict[fpartitioncode],header = None,colspecs=[(0,13),(21,29)])\n",
    "    # Tomo la segunda frecuencia del catalogo (por no pillar la hiperfina de un borde)\n",
    "    reffreq = molechfs.iloc[1][0] # Not the first hiperfine line\n",
    "    # muestro la frecuencia de esa transicion\n",
    "    print (\"Representative frequency: %s\" %reffreq)\n",
    "    # Sumo todas las 10^I300 de todas las transiciones que esten a +-thresholde de esa frecuencia, identificandolas como hfs\n",
    "    moleclineshfs = np.array(molechfs[(molechfs[0]>reffreq*(1-threshold)) & (molechfs[0]<reffreq*(1+threshold))][1])\n",
    "    moleclineshfssum = np.power(10,moleclineshfs).sum()\n",
    "    # Muestro la suma\n",
    "    print (\"Sum HFS: %s\" %moleclineshfssum)\n",
    "    # Lo mismo para la no hfs\n",
    "    moleclines = np.array(molec[(molec[0]>reffreq*(1-threshold)) & (molec[0]<reffreq*(1+threshold))][1])\n",
    "    moleclinessum = np.power(10,moleclines).sum()\n",
    "    print (\"Sum : %s\" %moleclinessum)\n",
    "    # Muestro el ratio. Si todo esta ok, esto deberia ser aproximadamente 1\n",
    "    print (\"MOLEC/MOLECHFS: %s \"%(moleclinessum/moleclineshfssum))\n",
    "    print(\"----------FACTOR: %s\" %int(round(moleclinessum/moleclineshfssum)))\n",
    "    return int(round(moleclinessum/moleclineshfssum))"
   ]
  },
  {
   "cell_type": "code",
   "execution_count": null,
   "metadata": {},
   "outputs": [],
   "source": [
    "fpartitionoutput = open('partition_function_hfs.html',\"w\")\n",
    "hfsfoundcodes = []\n",
    "for fpartitionline in fpartitionlines:\n",
    "    fpartitioncode = fpartitionline[0:6].replace(\" \",\"\")\n",
    "    if fpartitioncode in hfscatcodes:\n",
    "        hfsfoundcodes.append(fpartitioncode)\n",
    "        print(\"%s---------%s\" %(fpartitionline[7:33],fpartitioncode))\n",
    "        #factor = calculateCorrectionFactor(fpartitioncode)\n",
    "        auxmolname =fpartitionline[7:33].rstrip()\n",
    "        #print(fpartitionline[7:33].replace(\"%s    \"%auxmolname,\"%s,hfs\"%auxmolname)+\"---\")\n",
    "        fpartitionoutput.write(fpartitionline.replace(\"%s    \"%auxmolname,\"%s,hfs\"%auxmolname))\n",
    "fpartitionoutput.close()\n",
    "\n",
    "print(\"\")\n",
    "print(\"FOUND %s out of %s\" %(len(hfsfoundcodes), len(hfscatcodes)))\n",
    "print(\"NOT FOUND CODES (consider repeated above)\")\n",
    "list (set(hfscatcodes)-set(hfsfoundcodes))"
   ]
  },
  {
   "cell_type": "code",
   "execution_count": null,
   "metadata": {},
   "outputs": [],
   "source": [
    "calculateCorrectionFactor('28501')"
   ]
  },
  {
   "cell_type": "code",
   "execution_count": null,
   "metadata": {},
   "outputs": [],
   "source": [
    "hfscatcodes"
   ]
  },
  {
   "cell_type": "code",
   "execution_count": null,
   "metadata": {},
   "outputs": [],
   "source": []
  }
 ],
 "metadata": {
  "kernelspec": {
   "display_name": "Python 3 (ipykernel)",
   "language": "python",
   "name": "python3"
  },
  "language_info": {
   "codemirror_mode": {
    "name": "ipython",
    "version": 3
   },
   "file_extension": ".py",
   "mimetype": "text/x-python",
   "name": "python",
   "nbconvert_exporter": "python",
   "pygments_lexer": "ipython3",
   "version": "3.11.4"
  }
 },
 "nbformat": 4,
 "nbformat_minor": 4
}
